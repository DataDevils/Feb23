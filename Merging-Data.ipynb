{
 "cells": [
  {
   "cell_type": "markdown",
   "metadata": {},
   "source": [
    "# Merging Data\n",
    "* 2011: cxp6-pzzb\n",
    "* 2012: 4hek-p74b\n",
    "* 2013: marp-zazk"
   ]
  },
  {
   "cell_type": "code",
   "execution_count": 1,
   "metadata": {},
   "outputs": [],
   "source": [
    "import pandas as pd"
   ]
  },
  {
   "cell_type": "code",
   "execution_count": 3,
   "metadata": {},
   "outputs": [],
   "source": [
    "#Fetch the data\n",
    "df2011 = pd.read_csv('https://data.cdp.net/resource/cxp6-pzzb.csv')\n",
    "df2012 = pd.read_csv('https://data.cdp.net/resource/4hek-p74b.csv')\n",
    "df2013 = pd.read_csv('https://data.cdp.net/resource/marp-zazk.csv')"
   ]
  },
  {
   "cell_type": "code",
   "execution_count": 13,
   "metadata": {},
   "outputs": [
    {
     "data": {
      "text/plain": [
       "RangeIndex(start=0, stop=500, step=1)"
      ]
     },
     "execution_count": 13,
     "metadata": {},
     "output_type": "execute_result"
    }
   ],
   "source": [
    "#Add a year column to the data\n",
    "df2011['Year']"
   ]
  },
  {
   "cell_type": "code",
   "execution_count": 26,
   "metadata": {},
   "outputs": [
    {
     "data": {
      "text/plain": [
       "Index(['year', 'Company_Name', 'Account_Number', 'Country', 'Reporting_Year',\n",
       "       'Ticker_Symbol', 'ISIN', 'Disclosure_Score', 'Performance_Band',\n",
       "       'Parent_Account', 'Permission', 'Response_Status',\n",
       "       'Scope_1_(metric_tonnes_CO2e)', 'Scope_2_(metric_tonnes_CO2e)',\n",
       "       'Country_Location'],\n",
       "      dtype='object')"
      ]
     },
     "execution_count": 26,
     "metadata": {},
     "output_type": "execute_result"
    }
   ],
   "source": [
    "dfAll = pd.concat([df2011,df2012,df2013],\n",
    "                  axis='rows',\n",
    "                  keys=['2011','2012','2013'],\n",
    "                  names=['year','id'])\n",
    "dfAll.columns = dfAll.columns.str.strip()\n",
    "dfAll.columns = dfAll.columns.str.replace(\" \",\"_\")\n",
    "dfAll.reset_index(level=0,inplace=True)\n",
    "dfAll.columns"
   ]
  },
  {
   "cell_type": "code",
   "execution_count": 32,
   "metadata": {},
   "outputs": [],
   "source": [
    "dfUSA = dfAll.query('Country == \"USA\"')"
   ]
  },
  {
   "cell_type": "code",
   "execution_count": 35,
   "metadata": {},
   "outputs": [
    {
     "data": {
      "image/png": "[encoded data removed]",
      "text/plain": [
       "<matplotlib.figure.Figure at 0x20df344d0f0>"
      ]
     },
     "metadata": {},
     "output_type": "display_data"
    }
   ],
   "source": [
    "dfUSA[['year','Scope_2_(metric_tonnes_CO2e)']].boxplot(by='year');"
   ]
  },
  {
   "cell_type": "code",
   "execution_count": 24,
   "metadata": {},
   "outputs": [
    {
     "data": {
      "text/html": [
       "<div>\n",
       "<style scoped>\n",
       "    .dataframe tbody tr th:only-of-type {\n",
       "        vertical-align: middle;\n",
       "    }\n",
       "\n",
       "    .dataframe tbody tr th {\n",
       "        vertical-align: top;\n",
       "    }\n",
       "\n",
       "    .dataframe thead th {\n",
       "        text-align: right;\n",
       "    }\n",
       "</style>\n",
       "<table border=\"1\" class=\"dataframe\">\n",
       "  <thead>\n",
       "    <tr style=\"text-align: right;\">\n",
       "      <th></th>\n",
       "      <th>year</th>\n",
       "      <th>Company_Name</th>\n",
       "      <th>Account_Number</th>\n",
       "      <th>Country</th>\n",
       "      <th>Reporting_Year</th>\n",
       "      <th>Ticker_Symbol</th>\n",
       "      <th>ISIN</th>\n",
       "      <th>Disclosure_Score</th>\n",
       "      <th>Performance_Band</th>\n",
       "      <th>Parent_Account</th>\n",
       "      <th>Permission</th>\n",
       "      <th>Response_Status</th>\n",
       "      <th>Scope_1_(metric_tonnes_CO2e)</th>\n",
       "      <th>Scope_2_(metric_tonnes_CO2e)</th>\n",
       "      <th>Country_Location</th>\n",
       "    </tr>\n",
       "    <tr>\n",
       "      <th>id</th>\n",
       "      <th></th>\n",
       "      <th></th>\n",
       "      <th></th>\n",
       "      <th></th>\n",
       "      <th></th>\n",
       "      <th></th>\n",
       "      <th></th>\n",
       "      <th></th>\n",
       "      <th></th>\n",
       "      <th></th>\n",
       "      <th></th>\n",
       "      <th></th>\n",
       "      <th></th>\n",
       "      <th></th>\n",
       "      <th></th>\n",
       "    </tr>\n",
       "  </thead>\n",
       "  <tbody>\n",
       "    <tr>\n",
       "      <th>0</th>\n",
       "      <td>2011</td>\n",
       "      <td>QBE Insurance Group</td>\n",
       "      <td>15366</td>\n",
       "      <td>Australia</td>\n",
       "      <td>2011</td>\n",
       "      <td>QBE AU</td>\n",
       "      <td>AU000000QBE9</td>\n",
       "      <td>47.0</td>\n",
       "      <td>NaN</td>\n",
       "      <td>NaN</td>\n",
       "      <td>Public</td>\n",
       "      <td>AQ*</td>\n",
       "      <td>1268.0</td>\n",
       "      <td>36143.0</td>\n",
       "      <td>(-25.274398, 133.775136)</td>\n",
       "    </tr>\n",
       "    <tr>\n",
       "      <th>1</th>\n",
       "      <td>2011</td>\n",
       "      <td>Airbus Group</td>\n",
       "      <td>21770</td>\n",
       "      <td>Netherlands</td>\n",
       "      <td>2011</td>\n",
       "      <td>AIR FP</td>\n",
       "      <td>NL0000235190</td>\n",
       "      <td>52.0</td>\n",
       "      <td>D</td>\n",
       "      <td>NaN</td>\n",
       "      <td>Public</td>\n",
       "      <td>AQ*</td>\n",
       "      <td>NaN</td>\n",
       "      <td>NaN</td>\n",
       "      <td>(52.132633, 5.291266)</td>\n",
       "    </tr>\n",
       "    <tr>\n",
       "      <th>2</th>\n",
       "      <td>2011</td>\n",
       "      <td>Allergan, Inc.</td>\n",
       "      <td>533</td>\n",
       "      <td>USA</td>\n",
       "      <td>2011</td>\n",
       "      <td>AGN US</td>\n",
       "      <td>US0184901025</td>\n",
       "      <td>83.0</td>\n",
       "      <td>B</td>\n",
       "      <td>NaN</td>\n",
       "      <td>Public</td>\n",
       "      <td>AQ*</td>\n",
       "      <td>42674.0</td>\n",
       "      <td>52625.0</td>\n",
       "      <td>(37.09024, -95.712891)</td>\n",
       "    </tr>\n",
       "    <tr>\n",
       "      <th>3</th>\n",
       "      <td>2011</td>\n",
       "      <td>Allianz SE</td>\n",
       "      <td>593</td>\n",
       "      <td>Germany</td>\n",
       "      <td>2011</td>\n",
       "      <td>ALV GR</td>\n",
       "      <td>DE0008404005</td>\n",
       "      <td>92.0</td>\n",
       "      <td>A-</td>\n",
       "      <td>Allianz Group</td>\n",
       "      <td>Public</td>\n",
       "      <td>AQ*</td>\n",
       "      <td>41496.0</td>\n",
       "      <td>298321.0</td>\n",
       "      <td>(51.165691, 10.451526)</td>\n",
       "    </tr>\n",
       "    <tr>\n",
       "      <th>4</th>\n",
       "      <td>2011</td>\n",
       "      <td>Allstate Corporation</td>\n",
       "      <td>582</td>\n",
       "      <td>USA</td>\n",
       "      <td>2011</td>\n",
       "      <td>ALL US</td>\n",
       "      <td>US0200021014</td>\n",
       "      <td>89.0</td>\n",
       "      <td>C</td>\n",
       "      <td>NaN</td>\n",
       "      <td>Public</td>\n",
       "      <td>AQ*</td>\n",
       "      <td>35504.0</td>\n",
       "      <td>183474.0</td>\n",
       "      <td>(37.09024, -95.712891)</td>\n",
       "    </tr>\n",
       "  </tbody>\n",
       "</table>\n",
       "</div>"
      ],
      "text/plain": [
       "    year          Company_Name  Account_Number      Country  Reporting_Year  \\\n",
       "id                                                                            \n",
       "0   2011   QBE Insurance Group           15366    Australia            2011   \n",
       "1   2011          Airbus Group           21770  Netherlands            2011   \n",
       "2   2011        Allergan, Inc.             533          USA            2011   \n",
       "3   2011            Allianz SE             593      Germany            2011   \n",
       "4   2011  Allstate Corporation             582          USA            2011   \n",
       "\n",
       "   Ticker_Symbol          ISIN  Disclosure_Score Performance_Band  \\\n",
       "id                                                                  \n",
       "0         QBE AU  AU000000QBE9              47.0              NaN   \n",
       "1         AIR FP  NL0000235190              52.0                D   \n",
       "2         AGN US  US0184901025              83.0                B   \n",
       "3         ALV GR  DE0008404005              92.0               A-   \n",
       "4         ALL US  US0200021014              89.0                C   \n",
       "\n",
       "   Parent_Account Permission Response_Status  Scope_1_(metric_tonnes_CO2e)  \\\n",
       "id                                                                           \n",
       "0             NaN     Public             AQ*                        1268.0   \n",
       "1             NaN     Public             AQ*                           NaN   \n",
       "2             NaN     Public             AQ*                       42674.0   \n",
       "3   Allianz Group     Public             AQ*                       41496.0   \n",
       "4             NaN     Public             AQ*                       35504.0   \n",
       "\n",
       "    Scope_2_(metric_tonnes_CO2e)          Country_Location  \n",
       "id                                                          \n",
       "0                        36143.0  (-25.274398, 133.775136)  \n",
       "1                            NaN     (52.132633, 5.291266)  \n",
       "2                        52625.0    (37.09024, -95.712891)  \n",
       "3                       298321.0    (51.165691, 10.451526)  \n",
       "4                       183474.0    (37.09024, -95.712891)  "
      ]
     },
     "execution_count": 24,
     "metadata": {},
     "output_type": "execute_result"
    }
   ],
   "source": [
    "dfAll.head()"
   ]
  }
 ],
 "metadata": {
  "kernelspec": {
   "display_name": "Python 3",
   "language": "python",
   "name": "python3"
  },
  "language_info": {
   "codemirror_mode": {
    "name": "ipython",
    "version": 3
   },
   "file_extension": ".py",
   "mimetype": "text/x-python",
   "name": "python",
   "nbconvert_exporter": "python",
   "pygments_lexer": "ipython3",
   "version": "3.6.4"
  }
 },
 "nbformat": 4,
 "nbformat_minor": 2
}
