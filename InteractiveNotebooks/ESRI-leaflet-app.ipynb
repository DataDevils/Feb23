{
 "cells": [
  {
   "cell_type": "markdown",
   "metadata": {},
   "source": [
    "# ESRI Leaflet App\n",
    "This demonstrates the modular construction of a web page that implements the Leaflet/ESRI Leaflet apps.\n",
    "\n",
    "The web page that we will construct:\n",
    "* Allows the user to select a county by clicking on the map\n",
    "* Retrieves data on this county and presents a graph of the data for that county\n"
   ]
  },
  {
   "cell_type": "code",
   "execution_count": 1,
   "metadata": {
    "collapsed": true
   },
   "outputs": [],
   "source": [
    "# Import modules\n",
    "import webbrowser"
   ]
  },
  {
   "cell_type": "code",
   "execution_count": 26,
   "metadata": {
    "collapsed": true
   },
   "outputs": [],
   "source": [
    "# Write a function to write a file to an html page and show it\n",
    "def writeToHTML(txt,outFile='myPage.html',show=False):\n",
    "    import os, webbrowser\n",
    "    '''writes your HTML code to a file and optionally opens it'''\n",
    "    with open(outFile,'w') as theFile:\n",
    "        theFile.write(txt)\n",
    "    if show: \n",
    "        webbrowser.open(os.path.abspath(outFile))\n",
    "    return"
   ]
  },
  {
   "cell_type": "code",
   "execution_count": 11,
   "metadata": {
    "collapsed": true
   },
   "outputs": [],
   "source": [
    "#Web page settings\n",
    "pageTitle = 'My Demo Page'\n",
    "pageHeight = '100'\n",
    "pageWidth = '100'"
   ]
  },
  {
   "cell_type": "code",
   "execution_count": 22,
   "metadata": {
    "collapsed": true
   },
   "outputs": [],
   "source": [
    "# Boilerplate text, using settings above\n",
    "pageStart = '''\n",
    "<!doctype html>\n",
    "<html lang=\"en\">\n",
    "<head>\n",
    "  <meta charset=\"utf-8\">\n",
    "  <title>{0}</title>\n",
    "  <meta name='viewport' content='initial-scale=1,maximum-scale=1,user-scalable=no' />\n",
    "\n",
    "  <!-- Load Leaflet from CDN-->\n",
    "  <link rel=\"stylesheet\" href=\"https://unpkg.com/leaflet@1.0.1/dist/leaflet.css\" />\n",
    "  <script src=\"https://unpkg.com/leaflet@1.0.1/dist/leaflet.js\"></script>\n",
    "\n",
    "  <!-- Load Esri Leaflet from CDN -->\n",
    "  <script src=\"https://unpkg.com/esri-leaflet@2.0.4/dist/esri-leaflet.js\"></script>\n",
    "\n",
    "  <style>\n",
    "    html,\n",
    "    body,\n",
    "    #map {{\n",
    "      height: 100%;\n",
    "      width: 100%;\n",
    "      margin: 0;\n",
    "      padding: 0;\n",
    "    }}\n",
    "  </style>\n",
    "\n",
    "</head>\n",
    "\n",
    "<body>\n",
    "    <div id=\"map\"></div>\n",
    "    <script>\n",
    "'''.format(pageTitle)\n",
    "\n",
    "pageEnd = '''\n",
    "    </script>\n",
    "</body>\n",
    "</html>\n",
    "'''"
   ]
  },
  {
   "cell_type": "code",
   "execution_count": 31,
   "metadata": {
    "collapsed": true
   },
   "outputs": [],
   "source": [
    "# map settings string\n",
    "mapText = '''\n",
    "        var map = L.map('map', {\n",
    "          center: [37.75, -122.23],\n",
    "          zoom: 10\n",
    "        });\n",
    "        var esriStreets = L.esri.basemapLayer('Streets').addTo(map);\n",
    "'''\n"
   ]
  },
  {
   "cell_type": "code",
   "execution_count": 32,
   "metadata": {
    "collapsed": true
   },
   "outputs": [],
   "source": [
    "#Write to a file and show\n",
    "writeToHTML(pageStart+mapText+pageEnd,\n",
    "            outFile='../HTML/test1.html',\n",
    "            show=True)"
   ]
  }
 ],
 "metadata": {
  "kernelspec": {
   "display_name": "Python 2",
   "language": "python",
   "name": "python2"
  },
  "language_info": {
   "codemirror_mode": {
    "name": "ipython",
    "version": 2
   },
   "file_extension": ".py",
   "mimetype": "text/x-python",
   "name": "python",
   "nbconvert_exporter": "python",
   "pygments_lexer": "ipython2",
   "version": "2.7.13"
  }
 },
 "nbformat": 4,
 "nbformat_minor": 2
}
