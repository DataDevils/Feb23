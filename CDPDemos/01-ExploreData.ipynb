{
 "cells": [
  {
   "cell_type": "markdown",
   "metadata": {},
   "source": [
    "# Explore the CDP Global 500 emissions (2011) data"
   ]
  },
  {
   "cell_type": "code",
   "execution_count": null,
   "metadata": {},
   "outputs": [],
   "source": [
    "import pandas as pd\n",
    "import matplotlib\n",
    "matplotlib.style.use('ggplot')\n",
    "import matplotlib.pyplot as plt\n",
    "\n",
    "%matplotlib inline"
   ]
  },
  {
   "cell_type": "markdown",
   "metadata": {},
   "source": [
    "## Read data in from the csv file"
   ]
  },
  {
   "cell_type": "code",
   "execution_count": null,
   "metadata": {},
   "outputs": [],
   "source": [
    "#Read the CSV file in as a dataframe\n",
    "df = pd.read_csv('data/2011_-_Global_500_Emissions_and_Response_Status.csv')\n",
    "\n",
    "#Replace spaces in column names (Pandas doesn't like spaces)\n",
    "df.columns = df.columns.str.strip()\n",
    "df.columns = df.columns.str.replace(' ', '_')\n",
    "\n",
    "#View the data\n",
    "df"
   ]
  },
  {
   "cell_type": "markdown",
   "metadata": {},
   "source": [
    "## Sort data on `Performance Band`"
   ]
  },
  {
   "cell_type": "code",
   "execution_count": null,
   "metadata": {},
   "outputs": [],
   "source": [
    "df.sort_values(by='Performance_Band',\n",
    "               ascending=True)"
   ]
  },
  {
   "cell_type": "markdown",
   "metadata": {},
   "source": [
    "## Filter data on `Country = USA`"
   ]
  },
  {
   "cell_type": "code",
   "execution_count": null,
   "metadata": {},
   "outputs": [],
   "source": [
    "#Filter: Select High performing companies in the USA\n",
    "df.query('Country == \"USA\"')"
   ]
  },
  {
   "cell_type": "markdown",
   "metadata": {},
   "source": [
    "## Aggregate data...\n",
    "\n",
    "* Compute mean `Disclosure Score` by `Country` and sort from highest to lowest"
   ]
  },
  {
   "cell_type": "code",
   "execution_count": null,
   "metadata": {},
   "outputs": [],
   "source": [
    "seriesDS = df.groupby('Country')['Disclosure_Score'].mean()\n",
    "seriesDS.sort_values(ascending=False,inplace=True)\n",
    "seriesDS.dropna(inplace=True)\n",
    "seriesDS"
   ]
  },
  {
   "cell_type": "markdown",
   "metadata": {},
   "source": [
    "## Bar plot of mean `Disclosure score`"
   ]
  },
  {
   "cell_type": "code",
   "execution_count": null,
   "metadata": {},
   "outputs": [],
   "source": [
    "seriesDS.sort_values(inplace=True)\n",
    "seriesDS.plot(kind='barh',\n",
    "              figsize=(10,10),\n",
    "              use_index=True,\n",
    "              title = 'Average Disclosure Score'\n",
    "             );"
   ]
  },
  {
   "cell_type": "markdown",
   "metadata": {},
   "source": [
    "## Box plot disclosure scores by country"
   ]
  },
  {
   "cell_type": "code",
   "execution_count": null,
   "metadata": {},
   "outputs": [],
   "source": [
    "df[['Country','Disclosure_Score']].boxplot(by='Country',\n",
    "                                           fontsize=20,\n",
    "                                           rot=90,\n",
    "                                           figsize=(30,10)\n",
    "                                          );"
   ]
  },
  {
   "cell_type": "markdown",
   "metadata": {},
   "source": [
    "## Plot histograms of all the data and data just for the USA"
   ]
  },
  {
   "cell_type": "code",
   "execution_count": null,
   "metadata": {},
   "outputs": [],
   "source": [
    "df['Disclosure_Score'].plot(kind='hist',figsize=(20,5),color='gray')\n",
    "df[df['Country'] == 'USA']['Disclosure_Score'].plot(kind='hist',figsize=(20,5),color='blue');"
   ]
  }
 ],
 "metadata": {
  "kernelspec": {
   "display_name": "Python 2",
   "language": "python",
   "name": "python2"
  },
  "language_info": {
   "codemirror_mode": {
    "name": "ipython",
    "version": 2
   },
   "file_extension": ".py",
   "mimetype": "text/x-python",
   "name": "python",
   "nbconvert_exporter": "python",
   "pygments_lexer": "ipython2",
   "version": "2.7.14"
  }
 },
 "nbformat": 4,
 "nbformat_minor": 2
}
