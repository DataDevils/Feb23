{
 "cells": [
  {
   "cell_type": "markdown",
   "metadata": {},
   "source": [
    "# Merging Data\n",
    "Merges three year's worth of data to analyze\n",
    "* 2011: [cxp6-pzzb](https://data.cdp.net/resource/cxp6-pzzb.csv)\n",
    "* 2012: [4hek-p74b](https://data.cdp.net/resource/4hek-p74b.csv)\n",
    "* 2013: [marp-zazk](https://data.cdp.net/resource/marp-zazk.csv)"
   ]
  },
  {
   "cell_type": "code",
   "execution_count": null,
   "metadata": {},
   "outputs": [],
   "source": [
    "import pandas as pd\n",
    "%matplotlib inline"
   ]
  },
  {
   "cell_type": "code",
   "execution_count": null,
   "metadata": {},
   "outputs": [],
   "source": [
    "#Fetch the data\n",
    "df2011 = pd.read_csv('https://data.cdp.net/resource/cxp6-pzzb.csv')\n",
    "df2012 = pd.read_csv('https://data.cdp.net/resource/4hek-p74b.csv')\n",
    "df2013 = pd.read_csv('https://data.cdp.net/resource/marp-zazk.csv')"
   ]
  },
  {
   "cell_type": "code",
   "execution_count": null,
   "metadata": {},
   "outputs": [],
   "source": [
    "#Merge all frames into onw\n",
    "dfAll = pd.concat([df2011,df2012,df2013],\n",
    "                  axis='rows',\n",
    "                  keys=['2011','2012','2013'],\n",
    "                  names=['year','id'])\n",
    "#Fix spaces in column names\n",
    "dfAll.columns = dfAll.columns.str.strip()\n",
    "dfAll.columns = dfAll.columns.str.replace(\" \",\"_\")\n",
    "#Convert year index to a column\n",
    "dfAll.reset_index(level=0,inplace=True)\n",
    "#Show the data\n",
    "dfAll.head()"
   ]
  },
  {
   "cell_type": "code",
   "execution_count": null,
   "metadata": {},
   "outputs": [],
   "source": [
    "dfUSA = dfAll.query('Country == \"USA\"')"
   ]
  },
  {
   "cell_type": "code",
   "execution_count": null,
   "metadata": {},
   "outputs": [],
   "source": [
    "dfUSA[['year','Scope_2_(metric_tonnes_CO2e)']].boxplot(by='year');"
   ]
  },
  {
   "cell_type": "code",
   "execution_count": null,
   "metadata": {},
   "outputs": [],
   "source": [
    "#Compute country averages by year\n",
    "dfYearly = dfAll.groupby(['year','Country']).mean()\n",
    "dfYearly.head()"
   ]
  },
  {
   "cell_type": "code",
   "execution_count": null,
   "metadata": {},
   "outputs": [],
   "source": [
    "df2 = pd.pivot_table(data = dfAll,\n",
    "                     values='Disclosure_Score',\n",
    "                     index='Country',\n",
    "                     columns='year',\n",
    "                     aggfunc='mean',\n",
    "                     dropna=True\n",
    "                    )"
   ]
  },
  {
   "cell_type": "code",
   "execution_count": null,
   "metadata": {},
   "outputs": [],
   "source": [
    "df2.iloc[-5:].T.plot(by='Country',legend=True,figsize=(30,10),fontsize=20)"
   ]
  }
 ],
 "metadata": {
  "kernelspec": {
   "display_name": "Python 2",
   "language": "python",
   "name": "python2"
  },
  "language_info": {
   "codemirror_mode": {
    "name": "ipython",
    "version": 2
   },
   "file_extension": ".py",
   "mimetype": "text/x-python",
   "name": "python",
   "nbconvert_exporter": "python",
   "pygments_lexer": "ipython2",
   "version": "2.7.14"
  }
 },
 "nbformat": 4,
 "nbformat_minor": 2
}
