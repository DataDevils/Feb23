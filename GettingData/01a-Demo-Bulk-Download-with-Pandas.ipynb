{
 "cells": [
  {
   "cell_type": "markdown",
   "metadata": {},
   "source": [
    "## 1a. A demo of using pandas to bulk download files...\n",
    "Building off the method we just looked at of using Pandas to grab a single file, we see here how Python can be quite effective at downloading industrial water data for **all** US states. \n",
    "\n",
    "Compare running this script with doing the downloads by hand..."
   ]
  },
  {
   "cell_type": "code",
   "execution_count": null,
   "metadata": {
    "collapsed": true
   },
   "outputs": [],
   "source": [
    "#import os and pandas\n",
    "import os\n",
    "import pandas as pd"
   ]
  },
  {
   "cell_type": "code",
   "execution_count": null,
   "metadata": {
    "collapsed": true
   },
   "outputs": [],
   "source": [
    "#The 'us' module is useful for generating lists of us states...\n",
    "#import the 'us' module, install if needed\n",
    "try:\n",
    "    import us\n",
    "except:\n",
    "    import pip\n",
    "    pip.main(['install','us']);\n",
    "    import us"
   ]
  },
  {
   "cell_type": "code",
   "execution_count": null,
   "metadata": {
    "collapsed": true
   },
   "outputs": [],
   "source": [
    "#Create a function to create a data frame of water data for a given state\n",
    "def getData(state_abbr):\n",
    "    \n",
    "    #Update the url with the state code\n",
    "    theURL = 'https://waterdata.usgs.gov/{}/nwis/water_use?format=rdb&rdb_compression=value&wu_area=County&wu_year=ALL&wu_county=ALL&wu_category=IN&wu_county_nms=--ALL%2BCounties--&wu_category_nms=Industrial'\n",
    "    theURL = theURL.format(state_abbr.lower())\n",
    "    \n",
    "    #Get the data as a dataframe\n",
    "    df = pd.read_csv(theURL,delimiter='\\t',skiprows=range(49)+[50])\n",
    "    \n",
    "    #Return the df\n",
    "    return df"
   ]
  },
  {
   "cell_type": "code",
   "execution_count": null,
   "metadata": {
    "collapsed": true
   },
   "outputs": [],
   "source": [
    "#Create a folder to hold all the downloads\n",
    "outFolder = \"WaterData\"\n",
    "if not os.path.exists(outFolder): os.mkdir(outFolder)"
   ]
  },
  {
   "cell_type": "code",
   "execution_count": null,
   "metadata": {},
   "outputs": [],
   "source": [
    "#Loop through each state, download it's data, and save to a local file\n",
    "for state in us.STATES:\n",
    "    stateAbbr = state.abbr.lower()\n",
    "    dfState = getData(stateAbbr)\n",
    "    dfState.to_csv(\"WaterData/{}.csv\".format(stateAbbr),index=False)"
   ]
  }
 ],
 "metadata": {
  "kernelspec": {
   "display_name": "Python 2",
   "language": "python",
   "name": "python2"
  },
  "language_info": {
   "codemirror_mode": {
    "name": "ipython",
    "version": 2
   },
   "file_extension": ".py",
   "mimetype": "text/x-python",
   "name": "python",
   "nbconvert_exporter": "python",
   "pygments_lexer": "ipython2",
   "version": "2.7.13"
  }
 },
 "nbformat": 4,
 "nbformat_minor": 2
}
