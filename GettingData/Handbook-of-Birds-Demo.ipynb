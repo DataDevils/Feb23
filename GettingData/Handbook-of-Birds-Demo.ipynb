{
 "cells": [
  {
   "cell_type": "markdown",
   "metadata": {},
   "source": [
    "#### Applied example of scraping the Handbook of Birds of the World to get a list of subspecies for a given bird species. "
   ]
  },
  {
   "cell_type": "code",
   "execution_count": 1,
   "metadata": {
    "collapsed": true
   },
   "outputs": [],
   "source": [
    "#Import modules\n",
    "import requests\n",
    "from bs4 import BeautifulSoup"
   ]
  },
  {
   "cell_type": "code",
   "execution_count": 2,
   "metadata": {
    "collapsed": true
   },
   "outputs": [],
   "source": [
    "#Example URL\n",
    "theURL = \"https://www.hbw.com/species/brown-wood-owl-strix-leptogrammica\""
   ]
  },
  {
   "cell_type": "code",
   "execution_count": 3,
   "metadata": {
    "collapsed": true
   },
   "outputs": [],
   "source": [
    "#Get content of the species web page\n",
    "response = requests.get(theURL)"
   ]
  },
  {
   "cell_type": "code",
   "execution_count": 4,
   "metadata": {
    "collapsed": true
   },
   "outputs": [],
   "source": [
    "#Convert to a \"soup\" object, which BS4 is designed to work with\n",
    "soup = BeautifulSoup(response.text,'lxml')"
   ]
  },
  {
   "cell_type": "markdown",
   "metadata": {},
   "source": [
    "* Introspection of the source HTML of the species web page reveals that the sub-species listings fall within a section (`div` in HTML lingo) labeled `\"<div class=\"ds-ssp_comp>\"` in the HTML. So we'll search the 'soup' for this section, which returns a list of one object, then we extract that one object to a variable named `subSection`. \n",
    "\n",
    "https://www.crummy.com/software/BeautifulSoup/bs4/doc/#searching-by-css-class"
   ]
  },
  {
   "cell_type": "code",
   "execution_count": 5,
   "metadata": {},
   "outputs": [],
   "source": [
    "#Find all sections with the CSS class 'ds-ssp_comp' and get the first (only) item found\n",
    "div = soup.find_all('div',class_='ds-ssp_comp')\n",
    "section = div[0]"
   ]
  },
  {
   "cell_type": "markdown",
   "metadata": {},
   "source": [
    "* All the entries with the tag `<em>` are the subspecies entries."
   ]
  },
  {
   "cell_type": "code",
   "execution_count": 6,
   "metadata": {},
   "outputs": [],
   "source": [
    "#Find all lines in the section with the tag 'em'\n",
    "subSpecies = section.find_all('em')"
   ]
  },
  {
   "cell_type": "markdown",
   "metadata": {},
   "source": [
    "* We can loop through each subspecies found and print its name"
   ]
  },
  {
   "cell_type": "code",
   "execution_count": 7,
   "metadata": {},
   "outputs": [
    {
     "name": "stdout",
     "output_type": "stream",
     "text": [
      "S. l. newarensis\n",
      "S. l. ticehursti\n",
      "S. l. caligata\n",
      "S. l. laotiana\n",
      "S. l. indranee\n",
      "S. l. ochrogenys\n",
      "S. l. maingayi\n",
      "S. l. myrtha\n",
      "S. l. nyctiphasma\n",
      "S. l. chaseni\n",
      "S. l. vaga\n",
      "S. l. leptogrammica\n",
      "S. l. niasensis\n",
      "S. l. bartelsi\n"
     ]
    }
   ],
   "source": [
    "#Extract to a variable\n",
    "for subSpp in subSpecies:\n",
    "    print (subSpp.get_text())"
   ]
  }
 ],
 "metadata": {
  "kernelspec": {
   "display_name": "Python 2",
   "language": "python",
   "name": "python2"
  },
  "language_info": {
   "codemirror_mode": {
    "name": "ipython",
    "version": 2
   },
   "file_extension": ".py",
   "mimetype": "text/x-python",
   "name": "python",
   "nbconvert_exporter": "python",
   "pygments_lexer": "ipython2",
   "version": "2.7.13"
  }
 },
 "nbformat": 4,
 "nbformat_minor": 2
}
