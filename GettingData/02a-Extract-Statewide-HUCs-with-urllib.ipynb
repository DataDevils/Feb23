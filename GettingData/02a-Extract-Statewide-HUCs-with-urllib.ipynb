{
 "cells": [
  {
   "cell_type": "markdown",
   "metadata": {},
   "source": [
    "### Download watershed boundaries for a specific HUC\n",
    "Here we use the `urllib` and `zipfile` packages to download and unzip HUCs for a state specified in the first code box. Once downloaded, we see how the `geopandas` package is used to analyze and visualize the data. "
   ]
  },
  {
   "cell_type": "code",
   "execution_count": null,
   "metadata": {
    "collapsed": true
   },
   "outputs": [],
   "source": [
    "#Set the state\n",
    "state = 'Maryland'"
   ]
  },
  {
   "cell_type": "code",
   "execution_count": null,
   "metadata": {
    "collapsed": true
   },
   "outputs": [],
   "source": [
    "#Import modules\n",
    "import os\n",
    "import urllib\n",
    "import zipfile #https://pymotw.com/2/zipfile/\n",
    "import geopandas as gpd #http://geopandas.org/io.html"
   ]
  },
  {
   "cell_type": "code",
   "execution_count": null,
   "metadata": {
    "collapsed": true
   },
   "outputs": [],
   "source": [
    "#Allow maps to be shown inline...\n",
    "%matplotlib inline"
   ]
  },
  {
   "cell_type": "code",
   "execution_count": null,
   "metadata": {
    "collapsed": true
   },
   "outputs": [],
   "source": [
    "#Set the URLs\n",
    "ftpFolder = 'ftp://rockyftp.cr.usgs.gov/vdelivery/Datasets/Staged/Hydrography/NHD/State/HighResolution/Shape/'\n",
    "stateFile = 'NHD_H_{}_Shape.zip'.format(state)"
   ]
  },
  {
   "cell_type": "code",
   "execution_count": null,
   "metadata": {},
   "outputs": [],
   "source": [
    "#Get the file (this can take a few minutes...)\n",
    "url = ftpFolder + \"/\" + stateFile\n",
    "if os.path.exists(stateFile):\n",
    "    print(\"{} already downloaded\".format(stateFile))\n",
    "else:\n",
    "    print(\"Downloading {}\".format(statefile))\n",
    "    data = urllib.urlretrieve(url,stateFile)"
   ]
  },
  {
   "cell_type": "code",
   "execution_count": null,
   "metadata": {
    "collapsed": true
   },
   "outputs": [],
   "source": [
    "#Unzip the file\n",
    "outFolder = stateFile[:-4]\n",
    "if not os.path.exists(outFolder): os.mkdir(outFolder)\n",
    "zip_ref = zipfile.ZipFile(stateFile)\n",
    "zip_ref.extractall(outFolder)\n",
    "zip_ref.close()"
   ]
  },
  {
   "cell_type": "code",
   "execution_count": null,
   "metadata": {},
   "outputs": [],
   "source": [
    "#HUC8\n",
    "shp = outFolder + os.sep + 'Shape' + os.sep + 'WBDHU8.shp'\n",
    "gdf = gpd.read_file(shp)\n",
    "gdf.head()"
   ]
  },
  {
   "cell_type": "code",
   "execution_count": null,
   "metadata": {},
   "outputs": [],
   "source": [
    "gdf.plot();"
   ]
  }
 ],
 "metadata": {
  "kernelspec": {
   "display_name": "Python 2",
   "language": "python",
   "name": "python2"
  },
  "language_info": {
   "codemirror_mode": {
    "name": "ipython",
    "version": 2
   },
   "file_extension": ".py",
   "mimetype": "text/x-python",
   "name": "python",
   "nbconvert_exporter": "python",
   "pygments_lexer": "ipython2",
   "version": "2.7.13"
  }
 },
 "nbformat": 4,
 "nbformat_minor": 2
}
