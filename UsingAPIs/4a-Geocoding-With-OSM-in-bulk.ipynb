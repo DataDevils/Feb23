{
 "cells": [
  {
   "cell_type": "markdown",
   "metadata": {},
   "source": [
    "## *Bulk* Geocoding using the Open Street Map API\n",
    "\n",
    "Building off the last geocoding exercise, here we perform bactch geocoding. We'll read in a set of addresses stored in an Excel file and geocode them using the OSM geocoding API. The addresses are stored in the `ChileCare_Facilities.xlsx` file in the `Data` folder of this workspace, and we'll save the output in that folder as well."
   ]
  },
  {
   "cell_type": "code",
   "execution_count": null,
   "metadata": {
    "collapsed": true
   },
   "outputs": [],
   "source": [
    "#Import the requests module\n",
    "import requests\n",
    "import pandas as pd\n",
    "import folium"
   ]
  },
  {
   "cell_type": "code",
   "execution_count": null,
   "metadata": {
    "collapsed": true
   },
   "outputs": [],
   "source": [
    "#Create a function that will invoke the OSM API to return coordinates for an address\n",
    "def getCoord(street,city,state,zipcode):\n",
    "    #Form the address\n",
    "    address = \"{0} {1} {2} {3}\".format(street,city,state,zipcode)\n",
    "    #Form the request\n",
    "    osmURL = 'http://nominatim.openstreetmap.org/search'\n",
    "    params = {'format':'json','q':address} \n",
    "    #Send the request\n",
    "    response = requests.get(osmURL, params)\n",
    "    #Read in the response as a JSON encoded object\n",
    "    jsonObj = response.json()\n",
    "    if len(jsonObj) == 0: return(0,0)\n",
    "    d = jsonObj[0]\n",
    "    lat = float(d['lat'])\n",
    "    lng = float(d['lon'])\n",
    "    #Return the coordinate pair for the address\n",
    "    return(lat, lng)"
   ]
  },
  {
   "cell_type": "code",
   "execution_count": null,
   "metadata": {},
   "outputs": [],
   "source": [
    "#Pull in the excel spreadsheet as a pandas dataframe\n",
    "df = pd.read_excel('./data/Childcare_Facilities.xlsx',index_col='Facility ID')"
   ]
  },
  {
   "cell_type": "code",
   "execution_count": null,
   "metadata": {},
   "outputs": [],
   "source": [
    "#Subset to the columns we need and limit to 100 records\n",
    "dfSubset = df[['Location Address Line 1','Location City','Location State','Location Zip Code']].copy(deep=True)\n",
    "dfSubset.dropna(axis='rows')\n",
    "dfSubset = dfSubset.iloc[:20].copy(deep=True)"
   ]
  },
  {
   "cell_type": "code",
   "execution_count": null,
   "metadata": {},
   "outputs": [],
   "source": [
    "#Extract coordinates for all\n",
    "dfSubset['Coords'] = dfSubset.apply(lambda row: getCoord(row['Location Address Line 1'],\n",
    "                                             row['Location City'],\n",
    "                                             row['Location State'],\n",
    "                                             row['Location Zip Code']),axis=1)"
   ]
  },
  {
   "cell_type": "code",
   "execution_count": null,
   "metadata": {},
   "outputs": [],
   "source": [
    "#Parse coordinates into columns\n",
    "dfSubset['Lat'] = dfSubset['Coords'].apply(lambda x: x[0])\n",
    "dfSubset['Lng'] = dfSubset['Coords'].apply(lambda x: x[1])"
   ]
  },
  {
   "cell_type": "code",
   "execution_count": null,
   "metadata": {},
   "outputs": [],
   "source": [
    "#Find center coordinates from medians of lat and long columns\n",
    "meanLat = dfSubset['Lat'].median()\n",
    "meanLng = dfSubset['Lng'].median()\n",
    "\n",
    "#Create the initial map\n",
    "m = folium.Map(location=[meanLat,meanLng],\n",
    "               zoom_start=12,\n",
    "               tiles='stamenterrain')\n",
    "\n",
    "#Loop through all features and add them to the map as markers\n",
    "for row in dfSubset.itertuples():\n",
    "    #Get info for the record\n",
    "    lat = float(row.Lat)\n",
    "    lng = float(row.Lng)\n",
    "    #Create the marker object, adding them to the map object\n",
    "    folium.CircleMarker(location=[lat,lng],\n",
    "                        color='red',\n",
    "                        fill=True,\n",
    "                        fill_opacity=0.6,\n",
    "                        radius=5.0,\n",
    "                        stroke=False).add_to(m)\n",
    "#Show the map\n",
    "m"
   ]
  }
 ],
 "metadata": {
  "kernelspec": {
   "display_name": "Python 2",
   "language": "python",
   "name": "python2"
  },
  "language_info": {
   "codemirror_mode": {
    "name": "ipython",
    "version": 2
   },
   "file_extension": ".py",
   "mimetype": "text/x-python",
   "name": "python",
   "nbconvert_exporter": "python",
   "pygments_lexer": "ipython2",
   "version": "2.7.13"
  }
 },
 "nbformat": 4,
 "nbformat_minor": 2
}
