{
 "cells": [
  {
   "cell_type": "markdown",
   "metadata": {},
   "source": [
    "### Accessing the NWIS Discharge data as an API\n",
    "\n",
    "Here we revisit our old NWIS website listing current discharge conditions in the Eno near Durham gage site. \n",
    "\n",
    "http://waterdata.usgs.gov/nwis/uv?cb_00060=on&cb_00065=on&format=rdb&site_no=02085070&period=1&begin_date=&end_date=\n",
    "\n",
    "But now we'll examine the URL of this data site as a web service and access it using Python's `requests` package, which makes data access really quite easy. \n",
    "\n",
    "This is not actually all that different from the `urllib` example we reviewed before, but this serves as a nice intro to the `requests` packages, which is a bit more flexible and powerful than `urllib`, and also makes coding more \"pythonic\""
   ]
  },
  {
   "cell_type": "code",
   "execution_count": null,
   "metadata": {
    "collapsed": true
   },
   "outputs": [],
   "source": [
    "#import the module\n",
    "import requests"
   ]
  },
  {
   "cell_type": "code",
   "execution_count": null,
   "metadata": {
    "collapsed": true
   },
   "outputs": [],
   "source": [
    "#dissect the URL into it's components, for easy comprehension -- and easy modification\n",
    "serviceURL = 'http://waterdata.usgs.gov/nwis/uv'\n",
    "parameters = {'cb_00060':'on',\n",
    "              'cb_00065':'on',\n",
    "              'format':'rdb',\n",
    "              'period':'1',\n",
    "              'site_no':'02085070',\n",
    "              'begin_date':'',\n",
    "              'end_date':''\n",
    "             }"
   ]
  },
  {
   "cell_type": "code",
   "execution_count": null,
   "metadata": {
    "collapsed": true
   },
   "outputs": [],
   "source": [
    "#Pass the url and its parameters to the server and get its response\n",
    "response = requests.get(serviceURL, parameters)\n",
    "responseText = response.content"
   ]
  },
  {
   "cell_type": "code",
   "execution_count": null,
   "metadata": {},
   "outputs": [],
   "source": [
    "#What did we get? \n",
    "print(responseText)"
   ]
  },
  {
   "cell_type": "markdown",
   "metadata": {},
   "source": [
    "* Try modifying the code to get data for site 02085039 (Eno River At Cole Mill Rd Nr Huckleberry Spring)..."
   ]
  }
 ],
 "metadata": {
  "kernelspec": {
   "display_name": "Python 2",
   "language": "python",
   "name": "python2"
  },
  "language_info": {
   "codemirror_mode": {
    "name": "ipython",
    "version": 2
   },
   "file_extension": ".py",
   "mimetype": "text/x-python",
   "name": "python",
   "nbconvert_exporter": "python",
   "pygments_lexer": "ipython2",
   "version": "2.7.13"
  }
 },
 "nbformat": 4,
 "nbformat_minor": 2
}
