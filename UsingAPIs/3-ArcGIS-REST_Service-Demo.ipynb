{
 "cells": [
  {
   "cell_type": "code",
   "execution_count": 1,
   "metadata": {
    "collapsed": true
   },
   "outputs": [],
   "source": [
    "#import the modules\n",
    "import requests"
   ]
  },
  {
   "cell_type": "code",
   "execution_count": 16,
   "metadata": {
    "collapsed": true
   },
   "outputs": [],
   "source": [
    "#construct the API call\n",
    "theURL = \"https://ns-win2012test.win.duke.edu/arcgis/rest/services/ENV859/Discharge/MapServer/export\"\n",
    "params = {\"bbox\":\"-79.3, 35,-77.9, 36.5\",\n",
    "          \"bboxSR\":\"4269\",\n",
    "          \"layers\":\"\",\n",
    "          \"layerDefs\":\"\",\n",
    "          \"size\":\"\",\n",
    "          \"imageSR\":\"\",\n",
    "          \"format\":\"png\",\n",
    "          \"transparent\":\"true\",\n",
    "          \"dpi\":\"\",\n",
    "          \"time\":\"\",\n",
    "          \"layerTimeOptions\":\"\",\n",
    "          \"dynamicLayers\":\"\",\n",
    "          \"gdbVersion\":\"\",\n",
    "          \"mapScale\":\"\",\n",
    "          \"f\":\"image\"\n",
    "         } "
   ]
  },
  {
   "cell_type": "code",
   "execution_count": 17,
   "metadata": {
    "collapsed": true
   },
   "outputs": [],
   "source": [
    "response = requests.get(theURL, params)"
   ]
  },
  {
   "cell_type": "code",
   "execution_count": 18,
   "metadata": {},
   "outputs": [
    {
     "data": {
      "image/png": "[encoded data removed]",
      "text/plain": [
       "<IPython.core.display.Image object>"
      ]
     },
     "execution_count": 18,
     "metadata": {},
     "output_type": "execute_result"
    }
   ],
   "source": [
    "from IPython.display import Image\n",
    "Image(response.content)"
   ]
  }
 ],
 "metadata": {
  "kernelspec": {
   "display_name": "Python 2",
   "language": "python",
   "name": "python2"
  },
  "language_info": {
   "codemirror_mode": {
    "name": "ipython",
    "version": 2
   },
   "file_extension": ".py",
   "mimetype": "text/x-python",
   "name": "python",
   "nbconvert_exporter": "python",
   "pygments_lexer": "ipython2",
   "version": "2.7.13"
  }
 },
 "nbformat": 4,
 "nbformat_minor": 2
}
