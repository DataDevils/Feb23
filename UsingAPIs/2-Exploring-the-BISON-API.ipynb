{
 "cells": [
  {
   "cell_type": "markdown",
   "metadata": {},
   "source": [
    "### Using the BISON API\n",
    "The USGS provides an API for accessing species observation data. https://bison.usgs.gov/doc/api.jsp\n",
    "\n",
    "This API is much better documented than the NWIS API and we'll use it to dig a bit deeper into how the `requests` package can faciliate data access via APIs. "
   ]
  },
  {
   "cell_type": "markdown",
   "metadata": {},
   "source": [
    "We'll begin by replicating the example API call they show on their web page:<br> \n",
    "[https://bison.usgs.gov/api/search.json?species=Bison bison&type=scientific_name&start=0&count=1](https://bison.usgs.gov/api/search.json?species=Bison bison&type=scientific_name&start=0&count=1)"
   ]
  },
  {
   "cell_type": "code",
   "execution_count": null,
   "metadata": {
    "collapsed": true
   },
   "outputs": [],
   "source": [
    "#First, import the wonderful requests module\n",
    "import requests\n",
    "import folium\n",
    "import pandas as pd\n",
    "import numpy as np"
   ]
  },
  {
   "cell_type": "code",
   "execution_count": null,
   "metadata": {
    "collapsed": true
   },
   "outputs": [],
   "source": [
    "#Now, we'll deconstruct the example URL into the service URL and parameters, saving the paramters as a dictionary\n",
    "url = 'http://bison.usgs.gov/api/search.json'\n",
    "params = {'species':'Bison bison',\n",
    "          'type':'scientific_name',\n",
    "          'start':'0',\n",
    "          'count':'100'\n",
    "         }"
   ]
  },
  {
   "cell_type": "code",
   "execution_count": null,
   "metadata": {},
   "outputs": [],
   "source": [
    "#Submit the request\n",
    "response = requests.get(url,params)"
   ]
  },
  {
   "cell_type": "code",
   "execution_count": null,
   "metadata": {
    "collapsed": true
   },
   "outputs": [],
   "source": [
    "data = response.json()"
   ]
  },
  {
   "cell_type": "code",
   "execution_count": null,
   "metadata": {},
   "outputs": [],
   "source": [
    "import pandas as pd\n",
    "df = pd.DataFrame(data['data'])\n",
    "df.head()"
   ]
  },
  {
   "cell_type": "markdown",
   "metadata": {},
   "source": [
    "And Pandas allows us to do some nifty analyses, including subsetting records where the provider is 'iNaturalist.org'"
   ]
  },
  {
   "cell_type": "code",
   "execution_count": null,
   "metadata": {},
   "outputs": [],
   "source": [
    "df[df.provider == 'iNaturalist.org']"
   ]
  },
  {
   "cell_type": "code",
   "execution_count": null,
   "metadata": {},
   "outputs": [],
   "source": [
    "df.dtypes"
   ]
  },
  {
   "cell_type": "code",
   "execution_count": null,
   "metadata": {},
   "outputs": [],
   "source": [
    "#Find center coordinates from medians of lat and long columns\n",
    "meanLat = df['decimalLatitude'].median()\n",
    "meanLng = df['decimalLongitude'].median()\n",
    "\n",
    "#Create the initial map\n",
    "m = folium.Map(location=[meanLat,meanLng],\n",
    "               zoom_start=3,\n",
    "               tiles='stamenterrain')\n",
    "\n",
    "#Loop through all features and add them to the map as markers\n",
    "for row in df.itertuples():\n",
    "    #Get info for the record\n",
    "    lat = float(row.decimalLatitude)\n",
    "    lng = float(row.decimalLongitude)\n",
    "    name = row.provider\n",
    "    #Create the marker object, adding them to the map object\n",
    "    folium.CircleMarker(location=[lat,lng],\n",
    "                        popup=name,\n",
    "                        color='red',\n",
    "                        fill=True,\n",
    "                        fill_opacity=0.6,\n",
    "                        radius=5.0,\n",
    "                        stroke=False).add_to(m)\n",
    "#Show the map\n",
    "m"
   ]
  }
 ],
 "metadata": {
  "kernelspec": {
   "display_name": "Python 2",
   "language": "python",
   "name": "python2"
  },
  "language_info": {
   "codemirror_mode": {
    "name": "ipython",
    "version": 2
   },
   "file_extension": ".py",
   "mimetype": "text/x-python",
   "name": "python",
   "nbconvert_exporter": "python",
   "pygments_lexer": "ipython2",
   "version": "2.7.13"
  }
 },
 "nbformat": 4,
 "nbformat_minor": 2
}
