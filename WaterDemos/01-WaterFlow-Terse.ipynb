{
 "cells": [
  {
   "cell_type": "code",
   "metadata": {},
   "outputs": [],
   "source": [
    "#Import the Pandas library\n",
    "import urllib\n",
    "import pandas as pd"
   ]
  },
  {
   "cell_type": "code",
   "metadata": {},
   "outputs": [
    {
     "ename": "AttributeError",
     "evalue": "'module' object has no attribute 'parse'",
     "output_type": "error",
     "traceback": [
      "\u001b[1;31m---------------------------------------------------------------------------\u001b[0m",
      "\u001b[1;31mAttributeError\u001b[0m                            Traceback (most recent call last)",
      "\u001b[1;31mAttributeError\u001b[0m: 'module' object has no attribute 'parse'"
     ]
    }
   ],
   "source": [
    "#Construct the URL Request\n",
    "baseURL = 'http://waterservices.usgs.gov/nwis/dv/?'\n",
    "params = {'format':'rdb',\n",
    "          'sites':'02087500',\n",
    "          'startDT':'1930-10-01',\n",
    "          'endDT':'2017-09-30',\n",
    "          'statCd':'00003',\n",
    "          'parameterCd':'00060',\n",
    "          'siteStatus':'all',\n",
    "         }\n",
    "fullURL = baseURL + urllib.parse.urlencode(params)"
   ]
  },
  {
   "cell_type": "code",
   "metadata": {},
   "outputs": [],
   "source": [
    "#Retrieve the data directly into a Pandas data frame named 'df'\n",
    "url = 'http://waterservices.usgs.gov/nwis/dv/?format=rdb&sites=02087500&startDT=1930-10-01&endDT=2017-09-30&statCd=00003&parameterCd=00060&siteStatus=all'\n",
    "df = pd.read_csv(url,\n",
    "                 skiprows=31,\n",
    "                 sep='\\t',\n",
    "                 names=['agency_cd','site_no','datetime','MeanFlow_cfs','Confidence'],\n",
    "                 dtype={'site_no':'str'},\n",
    "                 parse_dates=['datetime'],\n",
    "                 index_col='datetime'\n",
    "                )"
   ]
  },
  {
   "cell_type": "code",
   "execution_count": null,
   "metadata": {},
   "outputs": [],
   "source": [
    "#Show the first 5 rows of the data frame\n",
    "df.head()"
   ]
  },
  {
   "cell_type": "markdown",
   "metadata": {},
   "source": [
    "### Plotting the data\n",
    "Ok, we now have a local copy of the data, let's plot it!"
   ]
  },
  {
   "cell_type": "code",
   "execution_count": null,
   "metadata": {},
   "outputs": [],
   "source": [
    "#This statements enables plots in our Jupyter notebook\n",
    "%matplotlib inline"
   ]
  },
  {
   "cell_type": "code",
   "execution_count": null,
   "metadata": {},
   "outputs": [],
   "source": [
    "#Plot the data: Start with data up to 1980\n",
    "ax = df[:'1979-12-31']['MeanFlow_cfs'].plot(title=\"Neuse River near Clayton\",\n",
    "                                            linewidth=0.5,\n",
    "                                            figsize=(12,5),\n",
    "                                            fontsize=18)\n",
    "#...add the data from 1984 on\n",
    "df['1984-01-01':]['MeanFlow_cfs'].plot(linewidth=0.5)\n",
    "\n",
    "#...add some aesthetics\n",
    "ax.set_ylabel(\"Mean flow (cfs)\",fontsize=18)\n",
    "ax.set_xlabel(\"Year\",fontsize=18);"
   ]
  },
  {
   "cell_type": "markdown",
   "metadata": {},
   "source": [
    "### Summarizing the data"
   ]
  },
  {
   "cell_type": "code",
   "execution_count": null,
   "metadata": {},
   "outputs": [],
   "source": [
    "dfSummary = pd.concat((df.describe(),\n",
    "                       df[:'1979-12-31'].describe(),\n",
    "                       df['1984-01-01':].describe()),\n",
    "                      axis='columns')\n",
    "dfSummary.columns = ('All','1930-1980','1984-2017')\n",
    "dfSummary"
   ]
  },
  {
   "cell_type": "code",
   "execution_count": null,
   "metadata": {},
   "outputs": [],
   "source": [
    "#Group data by confidence column and report count of MeanFlow values in each group\n",
    "df[['Confidence','MeanFlow_cfs']].groupby(['Confidence']).count()"
   ]
  },
  {
   "cell_type": "code",
   "execution_count": null,
   "metadata": {},
   "outputs": [],
   "source": [
    "#Plot as a pie chart\n",
    "df.groupby(['Confidence']).count()['MeanFlow_cfs'].plot.pie(figsize=(5,5),legend=True);"
   ]
  },
  {
   "cell_type": "markdown",
   "metadata": {},
   "source": [
    "### Boom! That was fast! \n",
    "But code written this tersely overlooks three key elements. \n",
    "- First, it's a bit hard to learn from; there's a lot going on here that's masked by compound statements. \n",
    "- Second, while effective, the code is note easily re-used. What if we wanted to do a similar analysis for a another gage site? It can be done, but it's not as easy as it could be. \n",
    "- And third, a key feature of Python code is that it's readable (when written correctly). This code is not as readable as good Python code should be.<br>**Try adding a new code box below and run the statement `import this`...**\n",
    "\n",
    "*So, let's revisit these procedures, but more slowly and deliberately so that we might actually learn a thing or two...*"
   ]
  }
 ],
 "metadata": {
  "kernelspec": {
   "display_name": "Python 2",
   "language": "python",
   "name": "python2"
  },
  "language_info": {
   "codemirror_mode": {
    "name": "ipython",
    "version": 2
   },
   "file_extension": ".py",
   "mimetype": "text/x-python",
   "name": "python",
   "nbconvert_exporter": "python",
   "pygments_lexer": "ipython2",
   "version": "2.7.14"
  }
 },
 "nbformat": 4,
 "nbformat_minor": 2
}
