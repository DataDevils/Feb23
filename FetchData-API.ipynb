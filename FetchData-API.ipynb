{
 "cells": [
  {
   "cell_type": "markdown",
   "metadata": {},
   "source": [
    "# Using the API\n",
    "ref: https://dev.socrata.com/foundry/data.cdp.net/cp8q-9kwm"
   ]
  },
  {
   "cell_type": "code",
   "execution_count": 11,
   "metadata": {},
   "outputs": [],
   "source": [
    "import pandas as pd\n",
    "import urllib"
   ]
  },
  {
   "cell_type": "code",
   "execution_count": 25,
   "metadata": {},
   "outputs": [],
   "source": [
    "baseURL = 'https://data.cdp.net/resource/cp8q-9kwm.csv?'\n",
    "params = {'country':'USA',\n",
    "          '$where':'scope_1_metric_tonnes_co2e < 50000'\n",
    "         }\n",
    "fullURL = baseURL + urllib.parse.urlencode(params)"
   ]
  },
  {
   "cell_type": "code",
   "execution_count": 26,
   "metadata": {},
   "outputs": [],
   "source": [
    "df = pd.read_csv(fullURL)"
   ]
  },
  {
   "cell_type": "code",
   "execution_count": 27,
   "metadata": {},
   "outputs": [
    {
     "data": {
      "text/plain": [
       "array(['Allergan, Inc.', 'Allstate Corporation', 'American Tower Corp.',\n",
       "       'AFLAC Incorporated', 'American Express', 'BB&T Corporation',\n",
       "       'BNY Mellon', 'Capital One Financial', 'Celgene Corporation',\n",
       "       'Citigroup Inc.', 'Cognizant Technology Solutions Corp.',\n",
       "       'Dell Inc.', 'eBay Inc.', 'EMC Corporation',\n",
       "       'Express Scripts Holding Company', 'Franklin Resources, Inc.',\n",
       "       'Gilead Sciences, Inc.', 'Goldman Sachs Group Inc.', 'Google Inc.',\n",
       "       \"Kohl's Corporation\", 'Medtronic, Inc.', 'Microsoft Corporation',\n",
       "       'Morgan Stanley', 'Motorola Solutions', 'NetApp Inc.', 'NIKE Inc.',\n",
       "       'Oracle Corporation', 'PNC Financial Services Group, Inc.',\n",
       "       'Prudential Financial, Inc.', 'Simon Property Group',\n",
       "       'State Street Corporation', 'The Travelers Companies, Inc.',\n",
       "       'Time Warner Inc.', 'U.S. Bancorp', 'WellPoint, Inc.',\n",
       "       'Automatic Data Processing, Inc.'], dtype=object)"
      ]
     },
     "execution_count": 27,
     "metadata": {},
     "output_type": "execute_result"
    }
   ],
   "source": [
    "df.company_name.unique()"
   ]
  }
 ],
 "metadata": {
  "kernelspec": {
   "display_name": "Python 3",
   "language": "python",
   "name": "python3"
  },
  "language_info": {
   "codemirror_mode": {
    "name": "ipython",
    "version": 3
   },
   "file_extension": ".py",
   "mimetype": "text/x-python",
   "name": "python",
   "nbconvert_exporter": "python",
   "pygments_lexer": "ipython3",
   "version": "3.6.4"
  }
 },
 "nbformat": 4,
 "nbformat_minor": 2
}
